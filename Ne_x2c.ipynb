{
 "cells": [
  {
   "cell_type": "code",
   "execution_count": 13,
   "id": "12c0234b",
   "metadata": {},
   "outputs": [],
   "source": [
    "#dependencies\n",
    "import h5py\n",
    "import numpy as np"
   ]
  },
  {
   "cell_type": "code",
   "execution_count": 14,
   "id": "43dd359f-6b4c-460a-a432-177e8722513e",
   "metadata": {},
   "outputs": [],
   "source": [
    "import os "
   ]
  },
  {
   "cell_type": "code",
   "execution_count": 15,
   "id": "410b00a2-a250-4b7d-a81a-d117ae4e63b7",
   "metadata": {},
   "outputs": [
    {
     "data": {
      "text/plain": [
       "'/Users/layalmahfoud/Desktop/PostBoettgerLayalJordan'"
      ]
     },
     "execution_count": 15,
     "metadata": {},
     "output_type": "execute_result"
    }
   ],
   "source": [
    "pwd"
   ]
  },
  {
   "cell_type": "code",
   "execution_count": 16,
   "id": "5c2ca2a5",
   "metadata": {},
   "outputs": [],
   "source": [
    "#importing bin file from a Kr 1e-X2C with no 2e-SOC (or approx.) with dyall-ae4z basis set.\n",
    "file_NeX2cNoscal = h5py.File('./data/x2c1enoscal/Ne_dyall_ae4z/neon_x2c_noscal.bin','r')"
   ]
  },
  {
   "cell_type": "code",
   "execution_count": 17,
   "id": "721ed6fe",
   "metadata": {},
   "outputs": [],
   "source": [
    "#importing fock matrices in pauli spinor basis in AO basis \n",
    "#only need spin-dependent part -- no scalar for now. \n",
    "fockx_NeX2cNoscal = np.array(file_NeX2cNoscal['SCF/FOCK_MX'][:])\n",
    "focky_NeX2cNoscal = np.array(file_NeX2cNoscal['SCF/FOCK_MY'][:])\n",
    "fockz_NeX2cNoscal = np.array(file_NeX2cNoscal['SCF/FOCK_MZ'][:])"
   ]
  },
  {
   "cell_type": "code",
   "execution_count": 18,
   "id": "c06790fe",
   "metadata": {},
   "outputs": [
    {
     "name": "stdout",
     "output_type": "stream",
     "text": [
      "number of fock_mx rows: 103\n",
      "number of fock_mx columns: 103\n"
     ]
    }
   ],
   "source": [
    "#sanity check \n",
    "\n",
    "#2c fock matrix traditionally has dimensionality (2*NBasis, 2*NBasis)\n",
    "#but when we spin scatter it (= put in pauli spinor basis = split it up into X,Y,Z,S)...\n",
    "#each matrix now has dimension (NBasis, NBasis)\n",
    "\n",
    "#From output file:\n",
    "\n",
    "\n",
    "#rows\n",
    "print(\"number of fock_mx rows: \" + str(len(fockx_NeX2cNoscal)))\n",
    "\n",
    "#columns\n",
    "print(\"number of fock_mx columns: \" + str(len(fockx_NeX2cNoscal[0])))\n",
    "\n",
    "#rows = columns = NBasis. That's good!"
   ]
  },
  {
   "cell_type": "code",
   "execution_count": 19,
   "id": "d08635dc",
   "metadata": {},
   "outputs": [],
   "source": [
    "#save dimension of 2c fock matrix in pauli spinor basis = NBasis\n",
    "NBasis =len(fockx_NeX2cNoscal)"
   ]
  },
  {
   "cell_type": "code",
   "execution_count": 20,
   "id": "7b05a367-c431-4789-a679-b160ed1a4d04",
   "metadata": {},
   "outputs": [
    {
     "name": "stdout",
     "output_type": "stream",
     "text": [
      "103\n"
     ]
    }
   ],
   "source": [
    "print(NBasis )"
   ]
  },
  {
   "cell_type": "markdown",
   "id": "0a278ba5",
   "metadata": {},
   "source": [
    "### We want to convert our spin-scattered (S,X,Y,Z) Fock matrices into the one total Fock matrix.\n",
    "### cite: the breit paper, the gaunt paper -- but I can set this up for you. \n",
    "### This will make life easier for us. \n",
    "# For two-component calculations... \n",
    "# $$\n",
    "F_{total} = \\frac{1}{2} \n",
    "\\begin{pmatrix}\n",
    "F_s + F_z & F_x-iF_y \\\\\n",
    "F_x + iF_y & F_s-Fz \n",
    "\\end{pmatrix}\n",
    "$$ \n",
    "### That is how to make the total Fock matrix out of (S,X,Y,Z). \n",
    "# However,\n",
    "### we don't need the total Fock matrix, we need the spin-dependent Fock matrix\n",
    "# $$\n",
    "F_{total} = F_{spin-free} + F_{spin-dependent}\n",
    "$$\n",
    "# $$\n",
    "F_{spin-free} = \n",
    "\\frac{1}{2}\\begin{pmatrix}\n",
    "F_s & 0 \\\\ \n",
    "0   & F_s\n",
    "\\end{pmatrix}\n",
    "$$\n",
    "## So, with a little algebra...\n",
    "# $$\n",
    "\\frac{1}{2} \n",
    "\\begin{pmatrix}\n",
    "F_s + F_z & F_x-iF_y \\\\\n",
    "F_x + iF_y & F_s-Fz \n",
    "\\end{pmatrix}\n",
    "=\n",
    "\\frac{1}{2}\n",
    "\\begin{pmatrix}\n",
    "F_s & 0 \\\\ \n",
    "0   & F_s\n",
    "\\end{pmatrix}\n",
    "+\n",
    "F_{spin-dependent}\n",
    "$$\n",
    "### rearranging... \n",
    "# $$ \n",
    "F_{spin-dependent} \n",
    "=\n",
    "\\frac{1}{2}\\left(\n",
    "\\begin{pmatrix}\n",
    "F_s + F_z & F_x-iF_y \\\\\n",
    "F_x + iF_y & F_s-Fz \n",
    "\\end{pmatrix} \n",
    "- \n",
    "\\begin{pmatrix}\n",
    "F_s & 0 \\\\ \n",
    "0   & F_s\n",
    "\\end{pmatrix}\n",
    "\\right)\n",
    "$$\n",
    "### and finally...\n",
    "# $$\n",
    "F_{spin-dependent} \n",
    "=\n",
    "\\frac{1}{2}\n",
    "\\begin{pmatrix}\n",
    "F_z & F_x-iF_y \\\\\n",
    "F_x + iF_y & -Fz \n",
    "\\end{pmatrix} \n",
    "$$\n",
    "# which is what I will build in the next section. "
   ]
  },
  {
   "cell_type": "code",
   "execution_count": 22,
   "id": "14bd056b",
   "metadata": {},
   "outputs": [],
   "source": [
    "#taking spin-dependent parts from pauli spinor AO basis and moving into alpha/beta AO basis \n",
    "\n",
    "#alpha-alpha block \n",
    "topleftsubmat_noscal = 0.5*(fockz_NeX2cNoscal)\n",
    "\n",
    "#beta-beta block\n",
    "bottomrightsubmat_noscal = -0.5*(fockz_NeX2cNoscal)\n",
    "\n",
    "#alpha-beta block \n",
    "toprightsubmat_noscal = 0.5*(fockx_NeX2cNoscal-1j*focky_NeX2cNoscal)\n",
    "\n",
    "#beta-alpha block\n",
    "bottomleftsubmat_noscal = 0.5*(fockx_NeX2cNoscal+1j*focky_NeX2cNoscal)"
   ]
  },
  {
   "cell_type": "code",
   "execution_count": 23,
   "id": "61401820",
   "metadata": {},
   "outputs": [],
   "source": [
    "#putting fock matrix submatrices together \n",
    "\n",
    "#initializing empty matrix with dimensionality double that of scattered \n",
    "tot_fock_sd_ao_noscal_x2c = np.zeros((NBasis*2,NBasis*2),dtype=np.complex_)\n",
    "\n",
    "#placing submatrices into large matrix\n",
    "tot_fock_sd_ao_noscal_x2c [0:NBasis,0:NBasis] = topleftsubmat_noscal\n",
    "tot_fock_sd_ao_noscal_x2c [0:NBasis,NBasis:2*NBasis] = toprightsubmat_noscal\n",
    "tot_fock_sd_ao_noscal_x2c [NBasis:2*NBasis,0:NBasis] = bottomleftsubmat_noscal\n",
    "tot_fock_sd_ao_noscal_x2c [NBasis:2*NBasis,NBasis:2*NBasis] = bottomrightsubmat_noscal"
   ]
  },
  {
   "cell_type": "code",
   "execution_count": 24,
   "id": "461d2337",
   "metadata": {},
   "outputs": [
    {
     "name": "stdout",
     "output_type": "stream",
     "text": [
      "NBasis = 103\n",
      "2NBasis = 206\n",
      "number of fock_sd rows: 206\n",
      "number of fock_sd columns: 206\n"
     ]
    }
   ],
   "source": [
    "#sanity check \n",
    "#From output file:\n",
    "print(\"NBasis = 103\")\n",
    "\n",
    "#times two \n",
    "print(\"2NBasis = \" + str(2*NBasis))\n",
    "\n",
    "#rows\n",
    "print(\"number of fock_sd rows: \" + str(len(tot_fock_sd_ao_noscal_x2c)))\n",
    "\n",
    "#columns\n",
    "print(\"number of fock_sd columns: \" + str(len(tot_fock_sd_ao_noscal_x2c[0])))\n",
    "\n",
    "#rows = columns = 2*NBasis. That's good!"
   ]
  },
  {
   "cell_type": "code",
   "execution_count": 25,
   "id": "682461de",
   "metadata": {},
   "outputs": [
    {
     "data": {
      "text/plain": [
       "array([[ 1.59184272e-09+7.86277431e-13j,  1.32469800e-10-7.81347384e-11j,\n",
       "         1.17071097e-10-7.36471208e-11j, ...,\n",
       "        -1.17962941e-11-2.69661872e-12j,  1.45234172e-12-3.72978478e-12j,\n",
       "        -1.24042718e-11-5.76916619e-12j],\n",
       "       [ 1.40167127e-10+7.94183613e-11j,  3.17715417e-10+1.14471332e-13j,\n",
       "         1.28602126e-10+2.61445544e-12j, ...,\n",
       "        -8.50090880e-12-1.13157988e-12j,  8.72118744e-12-1.50183963e-12j,\n",
       "        -2.39236271e-12+2.68173999e-12j],\n",
       "       [ 1.18702503e-10+7.38174211e-11j,  1.28593572e-10-2.45739626e-12j,\n",
       "         8.49749038e-11+8.98279484e-14j, ...,\n",
       "        -2.02297570e-12-2.01303907e-12j,  1.51434481e-12-1.73330599e-12j,\n",
       "        -8.23150873e-13+4.68482566e-13j],\n",
       "       ...,\n",
       "       [-1.17962941e-11+2.69661872e-12j, -8.50090880e-12+1.13157988e-12j,\n",
       "        -2.02297570e-12+2.01303907e-12j, ...,\n",
       "        -3.02698224e-15+5.09439496e-17j,  3.49475219e-15-6.39564593e-15j,\n",
       "        -3.94649673e-15+9.27638845e-17j],\n",
       "       [ 1.45234172e-12+3.72978478e-12j,  8.72118744e-12+1.50183963e-12j,\n",
       "         1.51434481e-12+1.73330599e-12j, ...,\n",
       "         3.51146943e-15+6.53123219e-15j,  4.09102724e-17+8.71834072e-17j,\n",
       "        -5.29976084e-16-3.02533655e-15j],\n",
       "       [-1.24042718e-11+5.76916619e-12j, -2.39236271e-12-2.68173999e-12j,\n",
       "        -8.23150873e-13-4.68482566e-13j, ...,\n",
       "        -3.93396615e-15-1.87806388e-17j, -4.93837478e-16+3.22527867e-15j,\n",
       "        -1.25469774e-14+3.28526811e-16j]])"
      ]
     },
     "execution_count": 25,
     "metadata": {},
     "output_type": "execute_result"
    }
   ],
   "source": [
    "tot_fock_sd_ao_noscal_x2c"
   ]
  },
  {
   "cell_type": "markdown",
   "id": "3ae1b3f8",
   "metadata": {},
   "source": [
    "# Running calculations for x2c-on(4c_DCB)"
   ]
  },
  {
   "cell_type": "code",
   "execution_count": null,
   "id": "b6890d1d-6ec6-45d9-ab8f-559f26ac77eb",
   "metadata": {},
   "outputs": [],
   "source": [
    "#importing bin file from a Kr 1e-X2C with no 2e-SOC (or approx.) with dyall-ae4z basis set.\n",
    "file_NeX2cNoscal = h5py.File('./data/x2c1enoscal/Ne_dyall_ae4z/neon_x2c_noscal.bin','r')"
   ]
  }
 ],
 "metadata": {
  "kernelspec": {
   "display_name": "Python 3 (ipykernel)",
   "language": "python",
   "name": "python3"
  },
  "language_info": {
   "codemirror_mode": {
    "name": "ipython",
    "version": 3
   },
   "file_extension": ".py",
   "mimetype": "text/x-python",
   "name": "python",
   "nbconvert_exporter": "python",
   "pygments_lexer": "ipython3",
   "version": "3.9.12"
  }
 },
 "nbformat": 4,
 "nbformat_minor": 5
}
